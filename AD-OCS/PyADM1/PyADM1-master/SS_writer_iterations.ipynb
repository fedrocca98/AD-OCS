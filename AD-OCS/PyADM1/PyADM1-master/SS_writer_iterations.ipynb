{
 "cells": [
  {
   "cell_type": "code",
   "execution_count": 1,
   "metadata": {},
   "outputs": [
    {
     "data": {
      "text/plain": [
       "'Sequence of steps to allow the writing of the results from ADM1 in the proper style to be accepted by AD_OCS'"
      ]
     },
     "execution_count": 1,
     "metadata": {},
     "output_type": "execute_result"
    }
   ],
   "source": [
    "import pandas as pd\n",
    "import numpy as np\n",
    "import matplotlib.pyplot as plt\n",
    "import matplotlib as mpl\n",
    "'''Sequence of steps to allow the writing of the results from ADM1 in the proper style to be accepted by AD_OCS'''"
   ]
  },
  {
   "cell_type": "code",
   "execution_count": 2,
   "metadata": {},
   "outputs": [],
   "source": [
    "name = \"thoni_2\"\n",
    "process = pd.read_csv(name + \"_SS_values\" + \".csv\")\n",
    "gas = pd.read_csv( name +\"_SS_gas\"  + \".csv\")\n",
    "influent = pd.read_csv(name + '_digester_influent.csv')\n",
    "path = r\"C:\\Users\\fede1\\OneDrive - Politecnico di Milano\\Documenti\\GitHub\\AD-OCS\\Working data\"\n"
   ]
  },
  {
   "cell_type": "code",
   "execution_count": 3,
   "metadata": {},
   "outputs": [],
   "source": [
    "Rgas_m3_atm_K = 0.08205746e-3 # m^3*atm/(mol*K)\n",
    "T_op = 42.5 +273.15 # K\n",
    "P_op = 1 # atm\n",
    "V_liq = 4050 #m3"
   ]
  },
  {
   "cell_type": "code",
   "execution_count": 4,
   "metadata": {},
   "outputs": [],
   "source": [
    "HRT_vett = [10, 12, 13, 14, 15, 16, 17, 18, 20, 22, 24, 26]\n",
    "SS_data = pd.DataFrame()\n",
    "for ind in range(len(HRT_vett)):\n",
    "    HRT = HRT_vett[ind]\n",
    "    XT = process['X_xc'][ind]+ process['X_ch'][ind] + process['X_pr'][ind] + process['X_li'][ind]\n",
    "    S1 = process['S_su'][ind] + process['S_aa'][ind] + process['S_fa'][ind] \n",
    "    S2 = (process['S_va'][ind]/208 + process['S_bu'][ind]/160 + process['S_pro'][ind]/112 + process['S_ac'][ind]/64)*1000\n",
    "    X1 = (process['X_su'][ind] + process['X_aa'][ind] + process['X_fa'][ind])/1.55\n",
    "    X2 = (process['X_ac'][ind] + process['X_h2'][ind] + process['X_c4'][ind] + process['X_pro'][ind])/1.55\n",
    "    C = process['S_IC'][ind]*1000\n",
    "    Z = S2 + process['S_hco3_ion'][ind]*1000\n",
    "    CO2 = process['S_co2'][ind]*1000\n",
    "    B = process['S_hco3_ion'][ind]*1000\n",
    "    pH = process['pH'][ind]\n",
    "\n",
    "    q_C = gas['q_co2'][ind]*P_op/(Rgas_m3_atm_K*T_op)/V_liq\n",
    "    q_M = gas['q_ch4'][ind]*P_op/(Rgas_m3_atm_K*T_op)/V_liq\n",
    "    p_C = gas['p_gas_co2'][ind]*1.01325  \n",
    "\n",
    "    SS = {'HRT': HRT, 'X_T': XT, 'S_1': S1, 'S_2': S2, 'X_1': X1, 'X_2': X2, 'C': C, 'Z': Z, 'CO2': CO2, 'B': B, 'pH': pH, 'p_C': p_C, 'q_C': q_C, 'q_CH4': q_M}\n",
    "\n",
    "    SS_data = SS_data.append(SS, ignore_index=True)\n",
    "SS_data.set_index('HRT', inplace=True)"
   ]
  },
  {
   "cell_type": "code",
   "execution_count": 5,
   "metadata": {},
   "outputs": [
    {
     "data": {
      "text/html": [
       "<div>\n",
       "<style scoped>\n",
       "    .dataframe tbody tr th:only-of-type {\n",
       "        vertical-align: middle;\n",
       "    }\n",
       "\n",
       "    .dataframe tbody tr th {\n",
       "        vertical-align: top;\n",
       "    }\n",
       "\n",
       "    .dataframe thead th {\n",
       "        text-align: right;\n",
       "    }\n",
       "</style>\n",
       "<table border=\"1\" class=\"dataframe\">\n",
       "  <thead>\n",
       "    <tr style=\"text-align: right;\">\n",
       "      <th></th>\n",
       "      <th>X_T</th>\n",
       "      <th>S_1</th>\n",
       "      <th>S_2</th>\n",
       "      <th>X_1</th>\n",
       "      <th>X_2</th>\n",
       "      <th>C</th>\n",
       "      <th>Z</th>\n",
       "      <th>CO2</th>\n",
       "      <th>B</th>\n",
       "      <th>pH</th>\n",
       "      <th>p_C</th>\n",
       "      <th>q_C</th>\n",
       "      <th>q_CH4</th>\n",
       "    </tr>\n",
       "    <tr>\n",
       "      <th>HRT</th>\n",
       "      <th></th>\n",
       "      <th></th>\n",
       "      <th></th>\n",
       "      <th></th>\n",
       "      <th></th>\n",
       "      <th></th>\n",
       "      <th></th>\n",
       "      <th></th>\n",
       "      <th></th>\n",
       "      <th></th>\n",
       "      <th></th>\n",
       "      <th></th>\n",
       "      <th></th>\n",
       "    </tr>\n",
       "  </thead>\n",
       "  <tbody>\n",
       "    <tr>\n",
       "      <th>10.0</th>\n",
       "      <td>8.104351</td>\n",
       "      <td>0.282237</td>\n",
       "      <td>2.362054</td>\n",
       "      <td>1.050846</td>\n",
       "      <td>0.746022</td>\n",
       "      <td>38.836290</td>\n",
       "      <td>30.644821</td>\n",
       "      <td>10.553523</td>\n",
       "      <td>28.282767</td>\n",
       "      <td>6.704376</td>\n",
       "      <td>0.389654</td>\n",
       "      <td>13.938076</td>\n",
       "      <td>23.778631</td>\n",
       "    </tr>\n",
       "    <tr>\n",
       "      <th>12.0</th>\n",
       "      <td>6.999146</td>\n",
       "      <td>0.226335</td>\n",
       "      <td>1.670256</td>\n",
       "      <td>1.069355</td>\n",
       "      <td>0.764549</td>\n",
       "      <td>42.334470</td>\n",
       "      <td>33.552124</td>\n",
       "      <td>10.452602</td>\n",
       "      <td>31.881868</td>\n",
       "      <td>6.763098</td>\n",
       "      <td>0.386242</td>\n",
       "      <td>12.299750</td>\n",
       "      <td>20.962096</td>\n",
       "    </tr>\n",
       "    <tr>\n",
       "      <th>13.0</th>\n",
       "      <td>6.555353</td>\n",
       "      <td>0.206896</td>\n",
       "      <td>1.480298</td>\n",
       "      <td>1.075048</td>\n",
       "      <td>0.770792</td>\n",
       "      <td>43.860783</td>\n",
       "      <td>34.927931</td>\n",
       "      <td>10.413151</td>\n",
       "      <td>33.447633</td>\n",
       "      <td>6.786463</td>\n",
       "      <td>0.384881</td>\n",
       "      <td>11.610795</td>\n",
       "      <td>19.772824</td>\n",
       "    </tr>\n",
       "    <tr>\n",
       "      <th>14.0</th>\n",
       "      <td>6.166228</td>\n",
       "      <td>0.191028</td>\n",
       "      <td>1.336531</td>\n",
       "      <td>1.079105</td>\n",
       "      <td>0.775682</td>\n",
       "      <td>45.296986</td>\n",
       "      <td>36.255212</td>\n",
       "      <td>10.378306</td>\n",
       "      <td>34.918681</td>\n",
       "      <td>6.807493</td>\n",
       "      <td>0.383743</td>\n",
       "      <td>11.005967</td>\n",
       "      <td>18.725522</td>\n",
       "    </tr>\n",
       "    <tr>\n",
       "      <th>15.0</th>\n",
       "      <td>5.822254</td>\n",
       "      <td>0.177819</td>\n",
       "      <td>1.223197</td>\n",
       "      <td>1.081900</td>\n",
       "      <td>0.779526</td>\n",
       "      <td>46.660551</td>\n",
       "      <td>37.536379</td>\n",
       "      <td>10.347369</td>\n",
       "      <td>36.313183</td>\n",
       "      <td>6.826687</td>\n",
       "      <td>0.382720</td>\n",
       "      <td>10.460124</td>\n",
       "      <td>17.781602</td>\n",
       "    </tr>\n",
       "    <tr>\n",
       "      <th>16.0</th>\n",
       "      <td>5.516001</td>\n",
       "      <td>0.166644</td>\n",
       "      <td>1.131214</td>\n",
       "      <td>1.083712</td>\n",
       "      <td>0.782549</td>\n",
       "      <td>47.962021</td>\n",
       "      <td>38.773479</td>\n",
       "      <td>10.319756</td>\n",
       "      <td>37.642265</td>\n",
       "      <td>6.844364</td>\n",
       "      <td>0.381760</td>\n",
       "      <td>9.958753</td>\n",
       "      <td>16.917493</td>\n",
       "    </tr>\n",
       "    <tr>\n",
       "      <th>17.0</th>\n",
       "      <td>5.241584</td>\n",
       "      <td>0.157059</td>\n",
       "      <td>1.054861</td>\n",
       "      <td>1.084754</td>\n",
       "      <td>0.784921</td>\n",
       "      <td>49.208210</td>\n",
       "      <td>39.968296</td>\n",
       "      <td>10.294776</td>\n",
       "      <td>38.913435</td>\n",
       "      <td>6.860754</td>\n",
       "      <td>0.380908</td>\n",
       "      <td>9.506587</td>\n",
       "      <td>16.138211</td>\n",
       "    </tr>\n",
       "    <tr>\n",
       "      <th>18.0</th>\n",
       "      <td>4.994283</td>\n",
       "      <td>0.148740</td>\n",
       "      <td>0.990350</td>\n",
       "      <td>1.085192</td>\n",
       "      <td>0.786772</td>\n",
       "      <td>50.404179</td>\n",
       "      <td>41.122437</td>\n",
       "      <td>10.272092</td>\n",
       "      <td>40.132087</td>\n",
       "      <td>6.876019</td>\n",
       "      <td>0.380136</td>\n",
       "      <td>9.094915</td>\n",
       "      <td>15.429275</td>\n",
       "    </tr>\n",
       "    <tr>\n",
       "      <th>20.0</th>\n",
       "      <td>4.566391</td>\n",
       "      <td>0.134995</td>\n",
       "      <td>0.887028</td>\n",
       "      <td>1.084737</td>\n",
       "      <td>0.789296</td>\n",
       "      <td>52.659994</td>\n",
       "      <td>43.314589</td>\n",
       "      <td>10.232434</td>\n",
       "      <td>42.427561</td>\n",
       "      <td>6.903661</td>\n",
       "      <td>0.378795</td>\n",
       "      <td>8.373573</td>\n",
       "      <td>14.188523</td>\n",
       "    </tr>\n",
       "    <tr>\n",
       "      <th>22.0</th>\n",
       "      <td>4.209093</td>\n",
       "      <td>0.124080</td>\n",
       "      <td>0.807638</td>\n",
       "      <td>1.083078</td>\n",
       "      <td>0.790697</td>\n",
       "      <td>54.752405</td>\n",
       "      <td>45.361071</td>\n",
       "      <td>10.198972</td>\n",
       "      <td>44.553433</td>\n",
       "      <td>6.928045</td>\n",
       "      <td>0.377647</td>\n",
       "      <td>7.758338</td>\n",
       "      <td>13.132705</td>\n",
       "    </tr>\n",
       "    <tr>\n",
       "      <th>24.0</th>\n",
       "      <td>3.906244</td>\n",
       "      <td>0.115182</td>\n",
       "      <td>0.744484</td>\n",
       "      <td>1.080674</td>\n",
       "      <td>0.791343</td>\n",
       "      <td>56.698160</td>\n",
       "      <td>47.272348</td>\n",
       "      <td>10.170297</td>\n",
       "      <td>46.527863</td>\n",
       "      <td>6.949720</td>\n",
       "      <td>0.376675</td>\n",
       "      <td>7.231422</td>\n",
       "      <td>12.229502</td>\n",
       "    </tr>\n",
       "    <tr>\n",
       "      <th>26.0</th>\n",
       "      <td>3.646273</td>\n",
       "      <td>0.107772</td>\n",
       "      <td>0.692873</td>\n",
       "      <td>1.077823</td>\n",
       "      <td>0.791477</td>\n",
       "      <td>58.510972</td>\n",
       "      <td>49.058404</td>\n",
       "      <td>10.145441</td>\n",
       "      <td>48.365531</td>\n",
       "      <td>6.969102</td>\n",
       "      <td>0.375850</td>\n",
       "      <td>6.776684</td>\n",
       "      <td>11.450598</td>\n",
       "    </tr>\n",
       "  </tbody>\n",
       "</table>\n",
       "</div>"
      ],
      "text/plain": [
       "           X_T       S_1       S_2       X_1       X_2          C          Z  \\\n",
       "HRT                                                                            \n",
       "10.0  8.104351  0.282237  2.362054  1.050846  0.746022  38.836290  30.644821   \n",
       "12.0  6.999146  0.226335  1.670256  1.069355  0.764549  42.334470  33.552124   \n",
       "13.0  6.555353  0.206896  1.480298  1.075048  0.770792  43.860783  34.927931   \n",
       "14.0  6.166228  0.191028  1.336531  1.079105  0.775682  45.296986  36.255212   \n",
       "15.0  5.822254  0.177819  1.223197  1.081900  0.779526  46.660551  37.536379   \n",
       "16.0  5.516001  0.166644  1.131214  1.083712  0.782549  47.962021  38.773479   \n",
       "17.0  5.241584  0.157059  1.054861  1.084754  0.784921  49.208210  39.968296   \n",
       "18.0  4.994283  0.148740  0.990350  1.085192  0.786772  50.404179  41.122437   \n",
       "20.0  4.566391  0.134995  0.887028  1.084737  0.789296  52.659994  43.314589   \n",
       "22.0  4.209093  0.124080  0.807638  1.083078  0.790697  54.752405  45.361071   \n",
       "24.0  3.906244  0.115182  0.744484  1.080674  0.791343  56.698160  47.272348   \n",
       "26.0  3.646273  0.107772  0.692873  1.077823  0.791477  58.510972  49.058404   \n",
       "\n",
       "            CO2          B        pH       p_C        q_C      q_CH4  \n",
       "HRT                                                                   \n",
       "10.0  10.553523  28.282767  6.704376  0.389654  13.938076  23.778631  \n",
       "12.0  10.452602  31.881868  6.763098  0.386242  12.299750  20.962096  \n",
       "13.0  10.413151  33.447633  6.786463  0.384881  11.610795  19.772824  \n",
       "14.0  10.378306  34.918681  6.807493  0.383743  11.005967  18.725522  \n",
       "15.0  10.347369  36.313183  6.826687  0.382720  10.460124  17.781602  \n",
       "16.0  10.319756  37.642265  6.844364  0.381760   9.958753  16.917493  \n",
       "17.0  10.294776  38.913435  6.860754  0.380908   9.506587  16.138211  \n",
       "18.0  10.272092  40.132087  6.876019  0.380136   9.094915  15.429275  \n",
       "20.0  10.232434  42.427561  6.903661  0.378795   8.373573  14.188523  \n",
       "22.0  10.198972  44.553433  6.928045  0.377647   7.758338  13.132705  \n",
       "24.0  10.170297  46.527863  6.949720  0.376675   7.231422  12.229502  \n",
       "26.0  10.145441  48.365531  6.969102  0.375850   6.776684  11.450598  "
      ]
     },
     "execution_count": 5,
     "metadata": {},
     "output_type": "execute_result"
    }
   ],
   "source": [
    "SS_data"
   ]
  },
  {
   "cell_type": "code",
   "execution_count": 6,
   "metadata": {},
   "outputs": [],
   "source": [
    "ind = ind = len(influent)-1\n",
    "XT = influent['X_xc'][ind]+ influent['X_ch'][ind] + influent['X_pr'][ind] + influent['X_li'][ind]\n",
    "S1 = influent['S_su'][ind] + influent['S_aa'][ind] + influent['S_fa'][ind] \n",
    "S2 = (influent['S_va'][ind]/208 + influent['S_bu'][ind]/160 + influent['S_pro'][ind]/112 + influent['S_ac'][ind]/64)*1000\n",
    "\n",
    "C = influent['S_IC'][ind]*1000\n",
    "N = influent['S_IN'][ind]*1000\n",
    "CO2 = influent['S_co2'][ind]*1000\n",
    "\n",
    "influent_data = {'S1in': [S1], 'S2in': [S2], 'Cin': [C], 'Nin': [N], 'XTin': [XT]}\n",
    "infl = pd.DataFrame(influent_data)\n"
   ]
  },
  {
   "cell_type": "code",
   "execution_count": 7,
   "metadata": {},
   "outputs": [
    {
     "data": {
      "text/plain": [
       "[<matplotlib.lines.Line2D at 0x1e2f1bd4dc0>]"
      ]
     },
     "execution_count": 7,
     "metadata": {},
     "output_type": "execute_result"
    },
    {
     "data": {
      "image/png": "[encoded data removed]",
      "text/plain": [
       "<Figure size 432x288 with 1 Axes>"
      ]
     },
     "metadata": {
      "needs_background": "light"
     },
     "output_type": "display_data"
    }
   ],
   "source": [
    "plt.plot(SS_data.index, SS_data['q_C'], label = 'X2')"
   ]
  },
  {
   "cell_type": "code",
   "execution_count": 8,
   "metadata": {},
   "outputs": [
    {
     "data": {
      "text/plain": [
       "[<matplotlib.lines.Line2D at 0x1e2f3cd5fc0>]"
      ]
     },
     "execution_count": 8,
     "metadata": {},
     "output_type": "execute_result"
    },
    {
     "data": {
      "image/png": "[encoded data removed]",
      "text/plain": [
       "<Figure size 432x288 with 1 Axes>"
      ]
     },
     "metadata": {
      "needs_background": "light"
     },
     "output_type": "display_data"
    }
   ],
   "source": [
    "plt.plot(SS_data.index, SS_data['q_C'], label = 'X2')"
   ]
  },
  {
   "cell_type": "code",
   "execution_count": 9,
   "metadata": {},
   "outputs": [],
   "source": [
    "with pd.ExcelWriter(name +'_working_data' + '.xlsx') as writer:\n",
    "    SS_data.to_excel(writer, sheet_name='SS_Values', index=True)\n",
    "    infl.to_excel(writer, sheet_name='Influent', index=False)"
   ]
  },
  {
   "cell_type": "code",
   "execution_count": null,
   "metadata": {},
   "outputs": [],
   "source": []
  }
 ],
 "metadata": {
  "kernelspec": {
   "display_name": "Python 3.10.0 64-bit",
   "language": "python",
   "name": "python3"
  },
  "language_info": {
   "codemirror_mode": {
    "name": "ipython",
    "version": 3
   },
   "file_extension": ".py",
   "mimetype": "text/x-python",
   "name": "python",
   "nbconvert_exporter": "python",
   "pygments_lexer": "ipython3",
   "version": "3.10.0"
  },
  "orig_nbformat": 4,
  "vscode": {
   "interpreter": {
    "hash": "26de051ba29f2982a8de78e945f0abaf191376122a1563185a90213a26c5da77"
   }
  }
 },
 "nbformat": 4,
 "nbformat_minor": 2
}
